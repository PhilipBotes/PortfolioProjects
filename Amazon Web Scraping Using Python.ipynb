{
 "cells": [
  {
   "cell_type": "code",
   "execution_count": 2,
   "metadata": {},
   "outputs": [],
   "source": [
    "# Import libraries \n",
    "\n",
    "from bs4 import BeautifulSoup\n",
    "import requests\n",
    "import time\n",
    "import datetime\n",
    "import smtplib"
   ]
  },
  {
   "cell_type": "code",
   "execution_count": 18,
   "metadata": {},
   "outputs": [
    {
     "name": "stdout",
     "output_type": "stream",
     "text": [
      "\n",
      "                   Funny Got Data MIS Data Systems Business Analyst T-Shirt\n",
      "                  \n",
      "\n",
      "\n",
      "\n",
      "\n",
      "\n",
      "                   Price:\n",
      "                  \n",
      "\n",
      "\n",
      "\n",
      "                     $16.99\n",
      "                    \n",
      "\n",
      "                     $16.99\n",
      "                    \n",
      "\n",
      "\n",
      "\n",
      "\n",
      "\n",
      "\n",
      "\n",
      "\n",
      "\n",
      "\n",
      "                      P.when(\"A\", \"jQuery\").execute(function(A, $) {\n",
      "$(\"#selectQuantity [name='quantity'], #mobileQuantityDropDown\").live(\"change\", function (event) {\n",
      "if (event.updatePromiseBadgeOnQuantityChange) {\n",
      "return;\n",
      "}\n",
      "event.updatePromiseBadgeOnQuantityChange = 1;\n",
      "// \"#buybox\" is included in this list because if there is no accordion row, then it is a single-offer layout\n",
      "var accordionRow = $(this).closest('[id$=\"AccordionRow\"], #buybox');\n",
      "var quantity = $(this).val();\n",
      "// This asin and merchantId will support use case in US marketplace.\n",
      "// DDM will be required here to support the feature in other marketplaces.\n",
      "var asin = accordionRow.find(\"#ftSelectAsin\").val();\n",
      "var merchantId = accordionRow.find(\"#ftSelectMerchant\").val();\n",
      "var slotName = 'priceBadging';\n",
      "if (!asin || !quantity) {\n",
      "return;\n",
      "}\n",
      "var params = [];\n",
      "params.push(\"asin=\" + asin);\n",
      "params.push(\"quantity=\" + quantity);\n",
      "params.push(\"merchantId=\" + merchantId);\n",
      "params.push(\"slotName=\" + slotName);\n",
      "$.ajax({\n",
      "type: \"POST\",\n",
      "url: \"/gp/product/features/dp-fast-track/udp-ajax-handler/get-quantity-update-message.html?ie=UTF8\",\n",
      "contentType: 'application/x-www-form-urlencoded;charset=utf-8',\n",
      "data: params.join('&'),\n",
      "accordionRow: accordionRow,\n",
      "dataType: \"html\",\n",
      "success: function(objResponse) {\n",
      "if (objResponse != null && objResponse != \"\") {\n",
      "accordionRow.find(\"#priceBadging_feature_div\").replaceWith(objResponse);\n",
      "// If it's a single buying option layout or the new buy box quantity changed, update data outside the buy box\n",
      "if ($(\"#buyBoxAccordion, #buybox\").children().length === 1 || accordionRow.is(\"#newAccordionRow\")) {\n",
      "$(\"#price #priceblock_ourprice_row #ourprice_shippingmessage #priceBadging_feature_div\").replaceWith(objResponse);\n",
      "$(\"#newOfferShippingMessage_feature_div #ourPrice_availability #priceBadging_feature_div\").replaceWith(objResponse);\n",
      "$(\"#price #priceblock_saleprice_row #saleprice_shippingmessage #priceBadging_feature_div\").replaceWith(objResponse);\n",
      "$(\"#price #priceblock_dealprice_row #dealprice_shippingmessage #priceBadging_feature_div\").replaceWith(objResponse);\n",
      "}\n",
      "}\n",
      "}\n",
      "});\n",
      "return;\n",
      "});\n",
      "});\n",
      "                     \n",
      "\n",
      "\n",
      "\n",
      "\n",
      "\n",
      "\n",
      "\n",
      "\n",
      "\n",
      "\n",
      "\n",
      "\n",
      "\n"
     ]
    }
   ],
   "source": [
    "# Connect to website\n",
    "\n",
    "URL = 'https://www.amazon.com/Funny-Data-Systems-Business-Analyst/dp/B07FNW9FGJ/ref=sr_1_3?dchild=1&keywords=data%2Banalyst%2Btshirt&qid=1626655184&sr=8-3&customId=B0752XJYNL&th=1'\n",
    "\n",
    "headers = {\"User-Agent\": \"Mozilla/5.0 (Windows NT 10.0; Win64; x64) AppleWebKit/537.36 (KHTML, like Gecko) Chrome/95.0.4638.54 Safari/537.36\", \"Accept-Encoding\":\"gzip, deflate\", \"Accept\":\"text/html,application/xhtml+xml,application/xml;q=0.9,*/*;q=0.8\", \"DNT\":\"1\",\"Connection\":\"close\", \"Upgrade-Insecure-Requests\":\"1\"}\n",
    "\n",
    "page = requests.get(URL, headers=headers)\n",
    "\n",
    "soup1 = BeautifulSoup(page.content, 'html.parser')\n",
    "\n",
    "soup2 = BeautifulSoup(soup1.prettify(), 'html.parser')\n",
    "\n",
    "title = soup2.find(id='productTitle').get_text()\n",
    "\n",
    "price = soup2.find(id='corePrice_desktop').get_text()\n",
    "\n",
    "print(title)\n",
    "print(price)"
   ]
  },
  {
   "cell_type": "code",
   "execution_count": 27,
   "metadata": {},
   "outputs": [
    {
     "name": "stdout",
     "output_type": "stream",
     "text": [
      "Funny Got Data MIS Data Systems Business Analyst T-Shirt\n",
      "16.99\n"
     ]
    }
   ],
   "source": [
    "# Cleaning the data\n",
    "\n",
    "price = price.strip()[51:56]\n",
    "title = title.strip()\n",
    "\n",
    "print(title)\n",
    "print(price)"
   ]
  },
  {
   "cell_type": "code",
   "execution_count": 30,
   "metadata": {},
   "outputs": [
    {
     "name": "stdout",
     "output_type": "stream",
     "text": [
      "2021-11-03\n"
     ]
    }
   ],
   "source": [
    "# Create a Timestamp for your output to track when data was collected\n",
    "\n",
    "today = datetime.date.today()\n",
    "\n",
    "print(today)"
   ]
  },
  {
   "cell_type": "code",
   "execution_count": 31,
   "metadata": {},
   "outputs": [],
   "source": [
    "# Create CSV and write headers and data into the file\n",
    "\n",
    "import csv\n",
    "\n",
    "header = ['Title', 'Price', 'Date']\n",
    "data = [title, price, today]\n",
    "\n",
    "with open('AmazonWebScraperDataset.csv', 'w', newline='', encoding='UTF8') as f:\n",
    "    writer = csv.writer(f)\n",
    "    writer.writerow(header)\n",
    "    writer.writerow(data)"
   ]
  },
  {
   "cell_type": "code",
   "execution_count": 45,
   "metadata": {},
   "outputs": [
    {
     "name": "stdout",
     "output_type": "stream",
     "text": [
      "  Funny Got Data MIS Data Systems Business Analyst T-Shirt  16.99  2021-11-03\n",
      "0  Funny Got Data MIS Data Systems Business Analy...        16.99  2021-11-03\n",
      "1  Funny Got Data MIS Data Systems Business Analy...        16.99  2021-11-03\n",
      "2  Funny Got Data MIS Data Systems Business Analy...        16.99  2021-11-03\n",
      "3  Funny Got Data MIS Data Systems Business Analy...        16.99  2021-11-03\n",
      "4  Funny Got Data MIS Data Systems Business Analy...        16.99  2021-11-03\n",
      "5  Funny Got Data MIS Data Systems Business Analy...        16.99  2021-11-03\n",
      "6  Funny Got Data MIS Data Systems Business Analy...        16.99  2021-11-03\n",
      "7  Funny Got Data MIS Data Systems Business Analy...        16.99  2021-11-03\n",
      "8  Funny Got Data MIS Data Systems Business Analy...        16.99  2021-11-03\n",
      "9  Funny Got Data MIS Data Systems Business Analy...        16.99  2021-11-03\n"
     ]
    }
   ],
   "source": [
    "import pandas as pd\n",
    "\n",
    "df = pd.read_csv(r'C:\\Users\\Peter\\AmazonWebScraperDataset.csv')\n",
    "\n",
    "print(df)"
   ]
  },
  {
   "cell_type": "code",
   "execution_count": 43,
   "metadata": {},
   "outputs": [],
   "source": [
    "# Appending data to the csv\n",
    "\n",
    "with open('AmazonWebScraperDataset.csv', 'a+', newline='', encoding='UTF8') as f:\n",
    "    writer = csv.writer(f)\n",
    "    writer.writerow(data)"
   ]
  },
  {
   "cell_type": "code",
   "execution_count": 37,
   "metadata": {},
   "outputs": [],
   "source": [
    "# Combining all of the above code into one function\n",
    "\n",
    "def check_price():\n",
    "    \n",
    "    URL = 'https://www.amazon.com/Funny-Data-Systems-Business-Analyst/dp/B07FNW9FGJ/ref=sr_1_3?dchild=1&keywords=data%2Banalyst%2Btshirt&qid=1626655184&sr=8-3&customId=B0752XJYNL&th=1'\n",
    "\n",
    "    headers = {\"User-Agent\": \"Mozilla/5.0 (Windows NT 10.0; Win64; x64) AppleWebKit/537.36 (KHTML, like Gecko) Chrome/95.0.4638.54 Safari/537.36\", \"Accept-Encoding\":\"gzip, deflate\", \"Accept\":\"text/html,application/xhtml+xml,application/xml;q=0.9,*/*;q=0.8\", \"DNT\":\"1\",\"Connection\":\"close\", \"Upgrade-Insecure-Requests\":\"1\"}\n",
    "\n",
    "    page = requests.get(URL, headers=headers)\n",
    "\n",
    "    soup1 = BeautifulSoup(page.content, 'html.parser')\n",
    "\n",
    "    soup2 = BeautifulSoup(soup1.prettify(), 'html.parser')\n",
    "\n",
    "    title = soup2.find(id='productTitle').get_text()\n",
    "\n",
    "    price = soup2.find(id='corePrice_desktop').get_text()\n",
    "\n",
    "    price = price.strip()[51:56]\n",
    "    title = title.strip()\n",
    "    \n",
    "    today = datetime.date.today()\n",
    "    \n",
    "    import csv\n",
    "\n",
    "    header = ['Title', 'Price', 'Date']\n",
    "    data = [title, price, today]\n",
    "\n",
    "    with open('AmazonWebScraperDataset.csv', 'a+', newline='', encoding='UTF8') as f:\n",
    "        writer = csv.writer(f)\n",
    "        writer.writerow(data)\n",
    "        \n",
    "    if(price < 14):\n",
    "        send_mail()"
   ]
  },
  {
   "cell_type": "code",
   "execution_count": null,
   "metadata": {},
   "outputs": [],
   "source": [
    "while(True):\n",
    "    check_price()\n",
    "    time.sleep(86400)"
   ]
  },
  {
   "cell_type": "code",
   "execution_count": 46,
   "metadata": {},
   "outputs": [
    {
     "name": "stdout",
     "output_type": "stream",
     "text": [
      "  Funny Got Data MIS Data Systems Business Analyst T-Shirt  16.99  2021-11-03\n",
      "0  Funny Got Data MIS Data Systems Business Analy...        16.99  2021-11-03\n",
      "1  Funny Got Data MIS Data Systems Business Analy...        16.99  2021-11-03\n",
      "2  Funny Got Data MIS Data Systems Business Analy...        16.99  2021-11-03\n",
      "3  Funny Got Data MIS Data Systems Business Analy...        16.99  2021-11-03\n",
      "4  Funny Got Data MIS Data Systems Business Analy...        16.99  2021-11-03\n",
      "5  Funny Got Data MIS Data Systems Business Analy...        16.99  2021-11-03\n",
      "6  Funny Got Data MIS Data Systems Business Analy...        16.99  2021-11-03\n",
      "7  Funny Got Data MIS Data Systems Business Analy...        16.99  2021-11-03\n",
      "8  Funny Got Data MIS Data Systems Business Analy...        16.99  2021-11-03\n",
      "9  Funny Got Data MIS Data Systems Business Analy...        16.99  2021-11-03\n"
     ]
    }
   ],
   "source": [
    "import pandas as pd\n",
    "\n",
    "df = pd.read_csv(r'C:\\Users\\Peter\\AmazonWebScraperDataset.csv')\n",
    "\n",
    "print(df)"
   ]
  },
  {
   "cell_type": "code",
   "execution_count": null,
   "metadata": {},
   "outputs": [],
   "source": [
    "# If you want to send yourself an email when a price hits below a certain level\n",
    "\n",
    "def send_mail():\n",
    "    server = smtplib.SMTP_SSL('smtp.gmail.com',465)\n",
    "    server.ehlo()\n",
    "    #server.starttls()\n",
    "    server.ehlo()\n",
    "    server.login('philip_botes@icloud.com','xxxxxxxxxxxxxx')\n",
    "    \n",
    "    subject = \"The Shirt you want is below $15! Now is your chance to buy!\"\n",
    "    body = \"Philip , This is the moment we have been waiting for. Now is your chance to pick up the shirt of your dreams. Don't mess it up! Link here: https://www.amazon.com/Funny-Data-Systems-Business-Analyst/dp/B07FNW9FGJ/ref=sr_1_3?dchild=1&keywords=data+analyst+tshirt&qid=1626655184&sr=8-3\"\n",
    "   \n",
    "    msg = f\"Subject: {subject}\\n\\n{body}\"\n",
    "    \n",
    "    server.sendmail(\n",
    "        'philip_botes@icloud.com',\n",
    "        msg\n",
    "     \n",
    "    )"
   ]
  }
 ],
 "metadata": {
  "kernelspec": {
   "display_name": "Python 3",
   "language": "python",
   "name": "python3"
  },
  "language_info": {
   "codemirror_mode": {
    "name": "ipython",
    "version": 3
   },
   "file_extension": ".py",
   "mimetype": "text/x-python",
   "name": "python",
   "nbconvert_exporter": "python",
   "pygments_lexer": "ipython3",
   "version": "3.7.3"
  }
 },
 "nbformat": 4,
 "nbformat_minor": 2
}
